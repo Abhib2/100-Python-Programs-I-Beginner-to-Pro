{
 "cells": [
  {
   "cell_type": "markdown",
   "id": "a1304624",
   "metadata": {},
   "source": [
    "# Solution by Pre-defined Variable"
   ]
  },
  {
   "cell_type": "code",
   "execution_count": 6,
   "id": "cd94ac84",
   "metadata": {},
   "outputs": [
    {
     "name": "stdout",
     "output_type": "stream",
     "text": [
      "Add of two Numbers : 14\n"
     ]
    }
   ],
   "source": [
    "num1 = 8\n",
    "num2 =6\n",
    "Add = num1 + num2\n",
    "print(\"Add of two Numbers :\",Add)"
   ]
  },
  {
   "cell_type": "code",
   "execution_count": 7,
   "id": "96a830d1",
   "metadata": {},
   "outputs": [
    {
     "name": "stdout",
     "output_type": "stream",
     "text": [
      "Add of two Numbers : 14\n"
     ]
    }
   ],
   "source": [
    "num1 = 8\n",
    "num2 =6\n",
    "print(\"Add of two Numbers :\",num1 + num2)"
   ]
  },
  {
   "cell_type": "markdown",
   "id": "b9046fe5",
   "metadata": {},
   "source": [
    "# Solution by Use-defined Variable"
   ]
  },
  {
   "cell_type": "code",
   "execution_count": 8,
   "id": "7d153b06",
   "metadata": {},
   "outputs": [
    {
     "name": "stdout",
     "output_type": "stream",
     "text": [
      "Enter your First Number: 10\n",
      "Enter your Second Number: 10\n",
      "Sum of two Numbers : 20\n"
     ]
    }
   ],
   "source": [
    "num1 = int(input(\"Enter your First Number: \"))\n",
    "num2 = int(input(\"Enter your Second Number: \"))\n",
    "\n",
    "print(\"Sum of two Numbers :\",num1+num2)\n"
   ]
  },
  {
   "cell_type": "code",
   "execution_count": 9,
   "id": "8cc87b77",
   "metadata": {},
   "outputs": [
    {
     "name": "stdout",
     "output_type": "stream",
     "text": [
      "Enter your First Number: 10\n",
      "Enter your Second Number: 220\n",
      "Sum of two Numbers : 230\n"
     ]
    }
   ],
   "source": [
    "num1 = int(input(\"Enter your First Number: \"))\n",
    "num2 = int(input(\"Enter your Second Number: \"))\n",
    "Sum = num1 + num2\n",
    "\n",
    "print(\"Sum of two Numbers :\",Sum)"
   ]
  },
  {
   "cell_type": "code",
   "execution_count": null,
   "id": "d1a527e5",
   "metadata": {},
   "outputs": [],
   "source": []
  }
 ],
 "metadata": {
  "kernelspec": {
   "display_name": "Python 3 (ipykernel)",
   "language": "python",
   "name": "python3"
  },
  "language_info": {
   "codemirror_mode": {
    "name": "ipython",
    "version": 3
   },
   "file_extension": ".py",
   "mimetype": "text/x-python",
   "name": "python",
   "nbconvert_exporter": "python",
   "pygments_lexer": "ipython3",
   "version": "3.9.13"
  }
 },
 "nbformat": 4,
 "nbformat_minor": 5
}
