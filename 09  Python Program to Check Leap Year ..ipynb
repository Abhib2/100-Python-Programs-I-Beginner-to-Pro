{
 "cells": [
  {
   "cell_type": "code",
   "execution_count": 5,
   "id": "5f88e926",
   "metadata": {},
   "outputs": [
    {
     "name": "stdout",
     "output_type": "stream",
     "text": [
      "Enter a Year: 2008\n",
      "2008 is a leap Year.\n"
     ]
    }
   ],
   "source": [
    "year = int(input(\"Enter a Year: \"))\n",
    "\n",
    "if (year % 400 == 0) and (year % 100 == 0):\n",
    "    print(year,\"is a leap Year.\")\n",
    "    \n",
    "if (year % 4 == 0) and (year % 100 != 0):\n",
    "    print(year,\"is a leap Year.\")\n",
    "    \n",
    "else:\n",
    "    print(year,\"is Not a leap Year.\")\n",
    "    "
   ]
  },
  {
   "cell_type": "code",
   "execution_count": null,
   "id": "a574e49b",
   "metadata": {},
   "outputs": [],
   "source": []
  }
 ],
 "metadata": {
  "kernelspec": {
   "display_name": "Python 3 (ipykernel)",
   "language": "python",
   "name": "python3"
  },
  "language_info": {
   "codemirror_mode": {
    "name": "ipython",
    "version": 3
   },
   "file_extension": ".py",
   "mimetype": "text/x-python",
   "name": "python",
   "nbconvert_exporter": "python",
   "pygments_lexer": "ipython3",
   "version": "3.9.13"
  }
 },
 "nbformat": 4,
 "nbformat_minor": 5
}
