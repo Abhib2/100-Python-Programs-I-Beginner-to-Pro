{
 "cells": [
  {
   "cell_type": "markdown",
   "id": "f79acaeb",
   "metadata": {},
   "source": [
    "# Solution-1 Using For Loop"
   ]
  },
  {
   "cell_type": "code",
   "execution_count": 8,
   "id": "b6eae971",
   "metadata": {},
   "outputs": [
    {
     "name": "stdout",
     "output_type": "stream",
     "text": [
      "Enter your Number : 9\n",
      "The Factorial if the given Number is 362880\n"
     ]
    }
   ],
   "source": [
    "num = int(input(\"Enter your Number : \"))\n",
    "\n",
    "fact = 1\n",
    "\n",
    "if num < 0:\n",
    "    print(\"Factorial of 0 dose not exist\")\n",
    "    \n",
    "if num == 0:\n",
    "    print(\"Factorial of o is \",1)\n",
    "    \n",
    "if num > 0:\n",
    "    for i in range(1,num+1):\n",
    "        fact = fact * i\n",
    "        \n",
    "print(\"The Factorial if the given Number is\",fact)\n",
    "\n",
    "    "
   ]
  },
  {
   "cell_type": "markdown",
   "id": "fb5c4531",
   "metadata": {},
   "source": [
    "# Solution-2 Using recursion"
   ]
  },
  {
   "cell_type": "code",
   "execution_count": 10,
   "id": "4a0b1b9a",
   "metadata": {},
   "outputs": [
    {
     "name": "stdout",
     "output_type": "stream",
     "text": [
      "Enter a number here: 6\n",
      "The factorial of the given number is 720\n"
     ]
    }
   ],
   "source": [
    "def fact(a):\n",
    "    if a == 0:\n",
    "        return 1\n",
    "    else:\n",
    "        return ((a)*fact(a-1))\n",
    "    \n",
    "num = int(input(\"Enter a number here: \"))\n",
    "\n",
    "result = fact(num)\n",
    "\n",
    "print (\"The factorial of the given number is\", result)\n"
   ]
  },
  {
   "cell_type": "code",
   "execution_count": null,
   "id": "86f02661",
   "metadata": {},
   "outputs": [],
   "source": []
  }
 ],
 "metadata": {
  "kernelspec": {
   "display_name": "Python 3 (ipykernel)",
   "language": "python",
   "name": "python3"
  },
  "language_info": {
   "codemirror_mode": {
    "name": "ipython",
    "version": 3
   },
   "file_extension": ".py",
   "mimetype": "text/x-python",
   "name": "python",
   "nbconvert_exporter": "python",
   "pygments_lexer": "ipython3",
   "version": "3.9.13"
  }
 },
 "nbformat": 4,
 "nbformat_minor": 5
}
