{
 "cells": [
  {
   "cell_type": "markdown",
   "id": "b7ca7f9a",
   "metadata": {},
   "source": [
    "# Solution by Pre-defined Variable"
   ]
  },
  {
   "cell_type": "code",
   "execution_count": 5,
   "id": "1882cf86",
   "metadata": {},
   "outputs": [
    {
     "name": "stdout",
     "output_type": "stream",
     "text": [
      "3.872983346207417\n"
     ]
    }
   ],
   "source": [
    "number = 15\n",
    "square_root = (number)**(1/2)\n",
    "print(square_root)"
   ]
  },
  {
   "cell_type": "code",
   "execution_count": 7,
   "id": "7cf7549b",
   "metadata": {},
   "outputs": [
    {
     "name": "stdout",
     "output_type": "stream",
     "text": [
      " Square Root of number :  3.872983346207417\n"
     ]
    }
   ],
   "source": [
    "number = 15\n",
    "print(\" Square Root of number : \",(number)**(1/2) )"
   ]
  },
  {
   "cell_type": "markdown",
   "id": "36462355",
   "metadata": {},
   "source": [
    "# Solution by Use-defined Variable"
   ]
  },
  {
   "cell_type": "code",
   "execution_count": 8,
   "id": "073fe718",
   "metadata": {},
   "outputs": [
    {
     "name": "stdout",
     "output_type": "stream",
     "text": [
      "Enter your Number : 5\n",
      "2.23606797749979\n"
     ]
    }
   ],
   "source": [
    "number = int(input(\"Enter your Number : \"))\n",
    "square_root = (number)**(1/2)\n",
    "print(square_root)"
   ]
  },
  {
   "cell_type": "code",
   "execution_count": 10,
   "id": "a36b8a71",
   "metadata": {},
   "outputs": [
    {
     "name": "stdout",
     "output_type": "stream",
     "text": [
      "Enter your Number : 9\n",
      " Square Root of number :  3.0\n"
     ]
    }
   ],
   "source": [
    "number = int(input(\"Enter your Number : \"))\n",
    "print(\" Square Root of number : \",(number)**(1/2) )"
   ]
  },
  {
   "cell_type": "code",
   "execution_count": null,
   "id": "94c83cbb",
   "metadata": {},
   "outputs": [],
   "source": []
  }
 ],
 "metadata": {
  "kernelspec": {
   "display_name": "Python 3 (ipykernel)",
   "language": "python",
   "name": "python3"
  },
  "language_info": {
   "codemirror_mode": {
    "name": "ipython",
    "version": 3
   },
   "file_extension": ".py",
   "mimetype": "text/x-python",
   "name": "python",
   "nbconvert_exporter": "python",
   "pygments_lexer": "ipython3",
   "version": "3.9.13"
  }
 },
 "nbformat": 4,
 "nbformat_minor": 5
}
