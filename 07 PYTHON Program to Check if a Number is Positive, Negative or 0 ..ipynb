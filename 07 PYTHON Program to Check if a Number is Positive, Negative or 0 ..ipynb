{
 "cells": [
  {
   "cell_type": "markdown",
   "id": "94368a0b",
   "metadata": {},
   "source": [
    "# Solution by Pre-defined Variable"
   ]
  },
  {
   "cell_type": "code",
   "execution_count": 10,
   "id": "ca979622",
   "metadata": {},
   "outputs": [
    {
     "name": "stdout",
     "output_type": "stream",
     "text": [
      "Number is Positive \n"
     ]
    }
   ],
   "source": [
    "num = 45\n",
    "\n",
    "if num > 0:\n",
    "    print(\"Number is Positive \")\n",
    "\n",
    "elif num == 0:\n",
    "    print(\"It is Zero\")\n",
    "    \n",
    "else:\n",
    "    print(\"It is a negative number\")"
   ]
  },
  {
   "cell_type": "markdown",
   "id": "17026415",
   "metadata": {},
   "source": [
    "# Solution by Use-defined Variable\n"
   ]
  },
  {
   "cell_type": "code",
   "execution_count": 15,
   "id": "29f7cc2c",
   "metadata": {},
   "outputs": [
    {
     "name": "stdout",
     "output_type": "stream",
     "text": [
      "Enter your number: 00\n",
      "zero\n"
     ]
    }
   ],
   "source": [
    "num = float(input(\"Enter your number: \"))\n",
    "\n",
    "if num > 0:\n",
    "    print(\"Number is Positive \")\n",
    "elif num < 0:\n",
    "    print (\"Number is Negative \")\n",
    "else:\n",
    "    print(\"zero\")"
   ]
  },
  {
   "cell_type": "code",
   "execution_count": null,
   "id": "a531f4c0",
   "metadata": {},
   "outputs": [],
   "source": []
  },
  {
   "cell_type": "code",
   "execution_count": null,
   "id": "68c2cea5",
   "metadata": {},
   "outputs": [],
   "source": []
  }
 ],
 "metadata": {
  "kernelspec": {
   "display_name": "Python 3 (ipykernel)",
   "language": "python",
   "name": "python3"
  },
  "language_info": {
   "codemirror_mode": {
    "name": "ipython",
    "version": 3
   },
   "file_extension": ".py",
   "mimetype": "text/x-python",
   "name": "python",
   "nbconvert_exporter": "python",
   "pygments_lexer": "ipython3",
   "version": "3.9.13"
  }
 },
 "nbformat": 4,
 "nbformat_minor": 5
}
