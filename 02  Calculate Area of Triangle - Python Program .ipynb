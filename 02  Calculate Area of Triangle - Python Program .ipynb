{
 "cells": [
  {
   "cell_type": "markdown",
   "id": "3c769359",
   "metadata": {},
   "source": [
    "# Solution by Pre-defined Variable "
   ]
  },
  {
   "cell_type": "code",
   "execution_count": 6,
   "id": "0f0387b4",
   "metadata": {},
   "outputs": [
    {
     "name": "stdout",
     "output_type": "stream",
     "text": [
      "Area of triangle : 100.0\n"
     ]
    }
   ],
   "source": [
    "height = 20\n",
    "base = 10\n",
    "area_of_triangle = (1/2)*(height*base)\n",
    "\n",
    "print(\"Area of triangle :\",area_of_triangle)"
   ]
  },
  {
   "cell_type": "code",
   "execution_count": 7,
   "id": "296e3f65",
   "metadata": {},
   "outputs": [
    {
     "name": "stdout",
     "output_type": "stream",
     "text": [
      "Area of triangle : 100.0\n"
     ]
    }
   ],
   "source": [
    "height = 20\n",
    "base = 10\n",
    "\n",
    "print(\"Area of triangle :\",(1/2)*(height*base))"
   ]
  },
  {
   "cell_type": "markdown",
   "id": "bb0bdc36",
   "metadata": {},
   "source": [
    "# Solution by Use-defined Variable"
   ]
  },
  {
   "cell_type": "code",
   "execution_count": 4,
   "id": "4fabd5c6",
   "metadata": {},
   "outputs": [
    {
     "name": "stdout",
     "output_type": "stream",
     "text": [
      "Enter the Height of Triangle :50\n",
      "Enter the Base of Triangle :60\n",
      "Area of triangle : 1500.0\n"
     ]
    }
   ],
   "source": [
    "height = int(input(\"Enter the Height of Triangle :\"))\n",
    "base = int(input(\"Enter the Base of Triangle :\"))\n",
    "\n",
    "print(\"Area of triangle :\",(1/2)*(height*base))"
   ]
  },
  {
   "cell_type": "code",
   "execution_count": 2,
   "id": "7dacce85",
   "metadata": {},
   "outputs": [
    {
     "name": "stdout",
     "output_type": "stream",
     "text": [
      "Enter the Height of Triangle :10\n",
      "Enter the Base of Triangle :10\n",
      "Area of triangle : 50.0\n"
     ]
    }
   ],
   "source": [
    "height = int(input(\"Enter the Height of Triangle :\"))\n",
    "base = int(input(\"Enter the Base of Triangle :\"))\n",
    "area_of_triangle = (1/2)*(height*base)\n",
    "\n",
    "\n",
    "print(\"Area of triangle :\",area_of_triangle)"
   ]
  },
  {
   "cell_type": "code",
   "execution_count": null,
   "id": "6b394733",
   "metadata": {},
   "outputs": [],
   "source": []
  }
 ],
 "metadata": {
  "kernelspec": {
   "display_name": "Python 3 (ipykernel)",
   "language": "python",
   "name": "python3"
  },
  "language_info": {
   "codemirror_mode": {
    "name": "ipython",
    "version": 3
   },
   "file_extension": ".py",
   "mimetype": "text/x-python",
   "name": "python",
   "nbconvert_exporter": "python",
   "pygments_lexer": "ipython3",
   "version": "3.9.13"
  }
 },
 "nbformat": 4,
 "nbformat_minor": 5
}
