{
 "cells": [
  {
   "cell_type": "markdown",
   "id": "321976f8",
   "metadata": {},
   "source": [
    "# Solution by Pre-defined Variable."
   ]
  },
  {
   "cell_type": "code",
   "execution_count": 26,
   "id": "4d0656b1",
   "metadata": {},
   "outputs": [
    {
     "name": "stdout",
     "output_type": "stream",
     "text": [
      "3330 Is the Largest .\n"
     ]
    }
   ],
   "source": [
    "num1 = 1000\n",
    "num2 = 2660\n",
    "num3 = 3330\n",
    "\n",
    "if (num1>num2)  and (num1>num3) :\n",
    "    print(num1,\"Is the Largest .\")\n",
    "    \n",
    "elif (num2>num1)  and (num2>num3):\n",
    "    print(num2,\"Is the Largest .\")\n",
    "    \n",
    "else:\n",
    "    print(num3,\"Is the Largest .\")  \n"
   ]
  },
  {
   "cell_type": "markdown",
   "id": "f48b1306",
   "metadata": {},
   "source": [
    "# Solution by Use-defined Variable."
   ]
  },
  {
   "cell_type": "code",
   "execution_count": null,
   "id": "7a2123ef",
   "metadata": {},
   "outputs": [],
   "source": [
    "num1 = 1000\n",
    "num2 = 2660\n",
    "num3 = 3330\n",
    "\n",
    "if (num1>num2)  and (num1>num3) :\n",
    "    print(num1,\"Is the Largest .\")\n",
    "    \n",
    "elif (num2>num1)  and (num2>num3):\n",
    "    print(num2,\"Is the Largest .\")\n",
    "    \n",
    "else:\n",
    "    print(num3,\"Is the Largest .\")  "
   ]
  }
 ],
 "metadata": {
  "kernelspec": {
   "display_name": "Python 3 (ipykernel)",
   "language": "python",
   "name": "python3"
  },
  "language_info": {
   "codemirror_mode": {
    "name": "ipython",
    "version": 3
   },
   "file_extension": ".py",
   "mimetype": "text/x-python",
   "name": "python",
   "nbconvert_exporter": "python",
   "pygments_lexer": "ipython3",
   "version": "3.9.13"
  }
 },
 "nbformat": 4,
 "nbformat_minor": 5
}
