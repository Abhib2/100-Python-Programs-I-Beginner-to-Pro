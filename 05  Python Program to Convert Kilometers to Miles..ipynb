{
 "cells": [
  {
   "cell_type": "markdown",
   "id": "cc0b380c",
   "metadata": {},
   "source": [
    "# Kilometre  to convert miles. \n"
   ]
  },
  {
   "cell_type": "code",
   "execution_count": 9,
   "id": "24410745",
   "metadata": {},
   "outputs": [
    {
     "name": "stdout",
     "output_type": "stream",
     "text": [
      "Enter your Value in Kilometer  : 5\n",
      "5.0 Kilometre in miles Will be 3.106855 miles\n"
     ]
    }
   ],
   "source": [
    "Kilometre = float(input(\"Enter your Value in Kilometer  : \"))\n",
    " \n",
    "# 1 kilometer = 0.621371 miles\n",
    "\n",
    "Miles = Kilometre * 0.621371\n",
    "\n",
    "print(Kilometre,\"Kilometre in miles Will be\" , Miles , \"miles\")"
   ]
  },
  {
   "cell_type": "markdown",
   "id": "063beb5e",
   "metadata": {},
   "source": [
    "# Miles to convert Kilometre \n"
   ]
  },
  {
   "cell_type": "code",
   "execution_count": 10,
   "id": "7b47eb5b",
   "metadata": {},
   "outputs": [
    {
     "name": "stdout",
     "output_type": "stream",
     "text": [
      "Enter your value in Miles : 5\n",
      "5.0 Miles in kilometre  Will be 8.0 kilometre\n"
     ]
    }
   ],
   "source": [
    "Miles = float(input(\"Enter your value in Miles : \"))\n",
    "\n",
    "# one_mile = 1.60 kilometre \n",
    "\n",
    "kilometres = 1.60 * Miles\n",
    "\n",
    "print(Miles,\"Miles in kilometre  Will be\" , kilometres  , \"kilometre\")\n"
   ]
  },
  {
   "cell_type": "code",
   "execution_count": null,
   "id": "5b578ee0",
   "metadata": {},
   "outputs": [],
   "source": []
  },
  {
   "cell_type": "code",
   "execution_count": null,
   "id": "b60ca14f",
   "metadata": {},
   "outputs": [],
   "source": []
  }
 ],
 "metadata": {
  "kernelspec": {
   "display_name": "Python 3 (ipykernel)",
   "language": "python",
   "name": "python3"
  },
  "language_info": {
   "codemirror_mode": {
    "name": "ipython",
    "version": 3
   },
   "file_extension": ".py",
   "mimetype": "text/x-python",
   "name": "python",
   "nbconvert_exporter": "python",
   "pygments_lexer": "ipython3",
   "version": "3.9.13"
  }
 },
 "nbformat": 4,
 "nbformat_minor": 5
}
