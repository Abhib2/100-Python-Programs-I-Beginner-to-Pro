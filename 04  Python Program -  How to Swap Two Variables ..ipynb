{
 "cells": [
  {
   "cell_type": "markdown",
   "id": "3f30f051",
   "metadata": {},
   "source": [
    "# Solution by using third Variable.\n"
   ]
  },
  {
   "cell_type": "code",
   "execution_count": 3,
   "id": "bb72aa59",
   "metadata": {},
   "outputs": [
    {
     "name": "stdout",
     "output_type": "stream",
     "text": [
      "The value of temp variable is :  13\n",
      "The value of x is : 12\n",
      "The value of y is : 13\n"
     ]
    }
   ],
   "source": [
    "x = 13\n",
    "y = 12\n",
    "\n",
    "temp = x\n",
    "print(\"The value of temp variable is : \",temp)\n",
    "\n",
    "x = y\n",
    "print(\"The value of x is :\",x)\n",
    "\n",
    "y = temp\n",
    "print(\"The value of y is :\",y)"
   ]
  },
  {
   "cell_type": "code",
   "execution_count": 1,
   "id": "80bde0ff",
   "metadata": {},
   "outputs": [
    {
     "name": "stdout",
     "output_type": "stream",
     "text": [
      "Enter First number x=12\n",
      "Second  First number y=13\n",
      "The value of temp variable is :  12\n",
      "The value of x is : 13\n",
      "The value of y is : 12\n"
     ]
    }
   ],
   "source": [
    "x = int(input(\"Enter First number x=\"))\n",
    "y = int(input(\"Second  First number y=\"))\n",
    "\n",
    "temp = x\n",
    "print(\"The value of temp variable is : \",temp)\n",
    "\n",
    "x = y\n",
    "print(\"The value of x is :\",x)\n",
    "\n",
    "y = temp\n",
    "print(\"The value of y is :\",y)"
   ]
  },
  {
   "cell_type": "markdown",
   "id": "a929d018",
   "metadata": {},
   "source": [
    "# Solution by without using third Variable."
   ]
  },
  {
   "cell_type": "code",
   "execution_count": 2,
   "id": "ffeae7f0",
   "metadata": {},
   "outputs": [
    {
     "name": "stdout",
     "output_type": "stream",
     "text": [
      "The value of x is : 89\n",
      "The value of y is : 78\n"
     ]
    }
   ],
   "source": [
    "x = 78\n",
    "y = 89\n",
    "\n",
    "x,y = y,x\n",
    "\n",
    "print(\"The value of x is :\",x)\n",
    "print(\"The value of y is :\",y)"
   ]
  },
  {
   "cell_type": "code",
   "execution_count": null,
   "id": "e1c709c2",
   "metadata": {},
   "outputs": [],
   "source": [
    "x = in\n",
    "y = 89\n",
    "\n",
    "x,y = y,x\n",
    "\n",
    "print(\"The value of x is :\",x)\n",
    "print(\"The value of y is :\",y)"
   ]
  }
 ],
 "metadata": {
  "kernelspec": {
   "display_name": "Python 3 (ipykernel)",
   "language": "python",
   "name": "python3"
  },
  "language_info": {
   "codemirror_mode": {
    "name": "ipython",
    "version": 3
   },
   "file_extension": ".py",
   "mimetype": "text/x-python",
   "name": "python",
   "nbconvert_exporter": "python",
   "pygments_lexer": "ipython3",
   "version": "3.9.13"
  }
 },
 "nbformat": 4,
 "nbformat_minor": 5
}
